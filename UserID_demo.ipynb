{
 "cells": [
  {
   "cell_type": "code",
   "execution_count": 1,
   "metadata": {},
   "outputs": [
    {
     "name": "stderr",
     "output_type": "stream",
     "text": [
      "C:\\Users\\u8015664\\Anaconda3\\lib\\site-packages\\refinitiv\\dataplatform\\pricing\\pricing_.py:8: FutureWarning: The pandas.np module is deprecated and will be removed from pandas in a future version. Import numpy directly instead\n",
      "  from pandas import np\n"
     ]
    }
   ],
   "source": [
    "import refinitiv.dataplatform as rdp\n",
    "import pandas\n",
    "%run ./credentials.ipynb"
   ]
  },
  {
   "cell_type": "code",
   "execution_count": 2,
   "metadata": {},
   "outputs": [],
   "source": [
    "session = rdp.open_platform_session(\n",
    "    APP_KEY, \n",
    "    rdp.GrantPassword(\n",
    "        username = RDP_LOGIN, \n",
    "        password = RDP_PASSWORD\n",
    "    )\n",
    ")"
   ]
  },
  {
   "cell_type": "code",
   "execution_count": 3,
   "metadata": {},
   "outputs": [],
   "source": [
    "endpoint = rdp.Endpoint(\n",
    "    session = session, # Optionnal\n",
    "    url = \"https://api.refinitiv.com/data/environmental-social-governance/v1/views/basic\",\n",
    ")"
   ]
  },
  {
   "cell_type": "code",
   "execution_count": 4,
   "metadata": {},
   "outputs": [],
   "source": [
    "response = endpoint.send_request(\n",
    "    method = rdp.Endpoint.RequestMethod.GET,\n",
    "    query_parameters = {'universe':'IBM.N'}\n",
    ")"
   ]
  },
  {
   "cell_type": "code",
   "execution_count": 5,
   "metadata": {},
   "outputs": [
    {
     "data": {
      "text/html": [
       "<div>\n",
       "<style scoped>\n",
       "    .dataframe tbody tr th:only-of-type {\n",
       "        vertical-align: middle;\n",
       "    }\n",
       "\n",
       "    .dataframe tbody tr th {\n",
       "        vertical-align: top;\n",
       "    }\n",
       "\n",
       "    .dataframe thead th {\n",
       "        text-align: right;\n",
       "    }\n",
       "</style>\n",
       "<table border=\"1\" class=\"dataframe\">\n",
       "  <thead>\n",
       "    <tr style=\"text-align: right;\">\n",
       "      <th></th>\n",
       "      <th>instrument</th>\n",
       "      <th>periodenddate</th>\n",
       "      <th>TR.CSRReportingScope</th>\n",
       "      <th>TR.ESGPeriodLastUpdateDate</th>\n",
       "      <th>TR.CO2EmissionTotal</th>\n",
       "      <th>TR.AvgTrainingHours</th>\n",
       "    </tr>\n",
       "  </thead>\n",
       "  <tbody>\n",
       "    <tr>\n",
       "      <th>0</th>\n",
       "      <td>IBM.N</td>\n",
       "      <td>2018-12-31</td>\n",
       "      <td>100</td>\n",
       "      <td>2020-07-10T00:00:00</td>\n",
       "      <td>1257663</td>\n",
       "      <td>63.238</td>\n",
       "    </tr>\n",
       "  </tbody>\n",
       "</table>\n",
       "</div>"
      ],
      "text/plain": [
       "  instrument periodenddate  TR.CSRReportingScope TR.ESGPeriodLastUpdateDate  \\\n",
       "0      IBM.N    2018-12-31                   100        2020-07-10T00:00:00   \n",
       "\n",
       "   TR.CO2EmissionTotal  TR.AvgTrainingHours  \n",
       "0              1257663               63.238  "
      ]
     },
     "metadata": {},
     "output_type": "display_data"
    },
    {
     "name": "stderr",
     "output_type": "stream",
     "text": [
      "2020-07-17 09:51:45,919 P[13016] [Thread-6 9356] [Error 400 - access_denied] iPlanet session has been expired.\n"
     ]
    }
   ],
   "source": [
    "if response.is_success:\n",
    "    headers = [h['name'] for h in response.data.raw['headers']]\n",
    "    df = pandas.DataFrame(data=response.data.raw['data'], columns=headers)\n",
    "    display(df)"
   ]
  },
  {
   "cell_type": "code",
   "execution_count": null,
   "metadata": {},
   "outputs": [],
   "source": []
  }
 ],
 "metadata": {
  "kernelspec": {
   "display_name": "Python 3",
   "language": "python",
   "name": "python3"
  },
  "language_info": {
   "codemirror_mode": {
    "name": "ipython",
    "version": 3
   },
   "file_extension": ".py",
   "mimetype": "text/x-python",
   "name": "python",
   "nbconvert_exporter": "python",
   "pygments_lexer": "ipython3",
   "version": "3.7.6"
  }
 },
 "nbformat": 4,
 "nbformat_minor": 4
}
